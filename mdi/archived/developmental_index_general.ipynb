{
 "cells": [
  {
   "cell_type": "markdown",
   "metadata": {},
   "source": [
    "## _The goal of this code is for providing generalizable, useful, working functions intented to aid in the creation of developmental indices on any gene expression data (preferably a dataset that has already been adjusted to appropriate values i.e. RPKM/FPKM/TPM)_"
   ]
  },
  {
   "cell_type": "markdown",
   "metadata": {},
   "source": [
    "#### 1) This first step is to scale all of the expression (whatever level it may be in - as long as it is normalized) to values between 0 and 1 to reduce bias between genes"
   ]
  },
  {
   "cell_type": "code",
   "execution_count": null,
   "metadata": {},
   "outputs": [],
   "source": [
    "### (expression value of the gene in a sample—minimum expression for the gene across all samples)/(maximum expression for the gene across all\n",
    "### samples—minimum expression for the gene across all samples),\n",
    "### scale all values so that they add equal weight to the index\n",
    "\n",
    "def scale_expression(df):\n",
    "    \n",
    "    ## importing the necessary packages\n",
    "    import numpy as np\n",
    "    import pandas as pd\n",
    "    import scipy.stats as stats\n",
    "    \n",
    "    \n",
    "    ## creating a copy of the input dataframe to scale the expression on\n",
    "    scaled_expression_df = df.copy()\n",
    "    \n",
    "    ## iterating through the rows of the dataframe to scale expression of each gene (by row)\n",
    "    for row in range(len(scaled_expression_df)):\n",
    "        scaled_expression_df.iloc[row] = (scaled_expression_df.iloc[row] - np.min(scaled_expression_df.iloc[row])) / np.max(scaled_expression_df.iloc[row] - np.min(scaled_expression_df.iloc[row]))        \n",
    "    \n",
    "    return scaled_expression_df"
   ]
  },
  {
   "cell_type": "markdown",
   "metadata": {},
   "source": [
    "#### 2) This next step is to identify which genes make up the index. To do this, you must give it the scaled dataframe and column labels for the two ages you would like to create the index off of"
   ]
  },
  {
   "cell_type": "code",
   "execution_count": null,
   "metadata": {},
   "outputs": [],
   "source": [
    "def identify_significant_genes(df):\n",
    "    \n",
    "    \n",
    "    ## these lines are different based on how you have indexind the samples in your dataframe. You may need to adjust accordingly\n",
    "    young = df['E18']\n",
    "    old = df['P60']\n",
    "    old = old.iloc[:, old.columns.get_level_values(1)=='SAL']\n",
    "\n",
    "    pvals = np.zeros(shape = len(df))\n",
    "    sig = np.zeros(shape = len(df))\n",
    "    logdiff = np.zeros(shape = len(df))\n",
    "\n",
    "    for row in range(len(df)):\n",
    "        pvals[row] = stats.ttest_ind(e18_all.iloc[row], p60_all.iloc[row])[1]\n",
    "        sig[row] = stats.ttest_ind(e18_all.iloc[row], p60_all.iloc[row])[0]\n",
    "        logdiff[row] = np.log2(np.mean(p60_all.iloc[row])/np.mean(e18_all.iloc[row]))\n",
    "    df['pvals'] = pvals\n",
    "    df['sig'] = sig\n",
    "    df['logdiff'] = logdiff\n",
    "\n",
    "    direction = [0] * len(df)\n",
    "    for row in range(len(df)):\n",
    "        if df['pvals'][row] < 0.05:\n",
    "            if df['logdiff'][row] > 0:\n",
    "                direction[row] = 'UP'\n",
    "            else:\n",
    "                direction[row] = 'DOWN'\n",
    "        else:\n",
    "            direction[row] = 'N/A'\n",
    "    df['direction'] = direction\n",
    "    \n",
    "\n",
    "    return df"
   ]
  },
  {
   "cell_type": "markdown",
   "metadata": {},
   "source": [
    "#### 4) This step is meant to drop the genes in the dataframe that were not developmentally regulated. This will just make it easier to move forward with the analysis"
   ]
  },
  {
   "cell_type": "code",
   "execution_count": 1,
   "metadata": {},
   "outputs": [],
   "source": [
    "def remove_unsignificant_rows(df):\n",
    "    df.reset_index(inplace = True)\n",
    "    for row in range(len(df)):\n",
    "        if df['direction'][row] == 'N/A':\n",
    "            df.drop(row, inplace = True)  \n",
    "    df.reset_index(drop=True, inplace=True)\n",
    "    return df"
   ]
  },
  {
   "cell_type": "markdown",
   "metadata": {},
   "source": [
    "#### 5) This step allows you to extract all of the information for the index genes into a standalone dataframe"
   ]
  },
  {
   "cell_type": "code",
   "execution_count": 3,
   "metadata": {},
   "outputs": [],
   "source": [
    "def extract_regulated_genes(df):\n",
    "    down_genes = df_cleaned['gene'][df_cleaned['direction'] == 'DOWN'].to_list()\n",
    "    up_genes = df_cleaned['gene'][df_cleaned['direction'] == 'UP'].to_list()\n",
    "\n",
    "    regulated_genes = pd.DataFrame((dict([ (k,pd.Series(v)) for k,v in {'gene' : df_cleaned['gene'], \n",
    "                                                                        'direction' : df_cleaned['direction'], \n",
    "                                                                        'valence' : df_cleaned['logdiff']}.items() ])))\n",
    "    \n",
    "    regulated_genes = regulated_genes.sort_values(by = 'valence', ascending = False).set_index('gene')"
   ]
  },
  {
   "cell_type": "code",
   "execution_count": null,
   "metadata": {},
   "outputs": [],
   "source": [
    "regulated_genes = extract_regulated_genes(df)\n",
    "\n",
    "regulated_genes.to_csv('YOUR DESTINATION HERE')"
   ]
  },
  {
   "cell_type": "markdown",
   "metadata": {},
   "source": [
    "#### 6) This is the function that actually generates the index, and automatically applies it to each sample in the dataset (each column) "
   ]
  },
  {
   "cell_type": "code",
   "execution_count": 2,
   "metadata": {},
   "outputs": [],
   "source": [
    "def generate_index(df):\n",
    "    \n",
    "    ## initialize the dataframe with the sample columns and create an index per sample array\n",
    "    ## also, create an int counter\n",
    "    samples = df.columns[1:-4]\n",
    "    index_per_sample = [0] * len(samples)\n",
    "    i = -1\n",
    "    \n",
    "    ## iterate through the sampels and calculate the index given the index genes\n",
    "    for sample in samples:\n",
    "        i = i + 1\n",
    "        index_per_sample[i] = np.mean(df[sample][df['direction'] == 'UP']) / np.mean(df[sample][df['direction'] == 'DOWN'])\n",
    "        \n",
    "    ## create the output dataframe by stitching this index per sample array to the corresponding sample names    \n",
    "    final_df = pd.DataFrame(index_per_sample, columns = samples)\n",
    "        \n",
    "    return final_df"
   ]
  },
  {
   "cell_type": "markdown",
   "metadata": {},
   "source": [
    "#### 7) In this final function, we are scaling all of the index values to be between 0 and 1."
   ]
  },
  {
   "cell_type": "code",
   "execution_count": null,
   "metadata": {},
   "outputs": [],
   "source": [
    "def scale_index(df):\n",
    "\n",
    "    ## scale data to between 0 and 1\n",
    "    final_df_scaled = pd.DataFrame(df.iloc[0] - np.min(df.iloc[0])) / (np.max(df.iloc[0] - np.min(df.iloc[0])))\n",
    "    final_df_scaled.reset_index(inplace = True)"
   ]
  },
  {
   "cell_type": "code",
   "execution_count": null,
   "metadata": {},
   "outputs": [],
   "source": [
    "## this is purely aesthetic, but you will want to manually relabel all of the columns of the scaled DF\n",
    "final_df_scaled.columns = ['age', 'sex', 'tx', 'sample_name', 'index']\n",
    "\n",
    "final_df_scaled.to_csv('YOUR DESTINATION HERE')"
   ]
  }
 ],
 "metadata": {
  "kernelspec": {
   "display_name": "Python 3",
   "language": "python",
   "name": "python3"
  },
  "language_info": {
   "codemirror_mode": {
    "name": "ipython",
    "version": 3
   },
   "file_extension": ".py",
   "mimetype": "text/x-python",
   "name": "python",
   "nbconvert_exporter": "python",
   "pygments_lexer": "ipython3",
   "version": "3.7.6"
  }
 },
 "nbformat": 4,
 "nbformat_minor": 4
}

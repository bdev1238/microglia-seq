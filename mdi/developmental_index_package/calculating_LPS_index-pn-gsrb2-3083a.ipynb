{
 "cells": [
  {
   "cell_type": "markdown",
   "metadata": {},
   "source": [
    "## This notebook will walk through a common pipeline for calculating a developmental index from an expression matrix containing normalized expression data (i.e. RPKM, FPKM, or TPM). The input dataframe should be formatted such that every column corresponds to an individual sample/cell, and every row corresponds to a gene.\n",
    "---"
   ]
  },
  {
   "cell_type": "markdown",
   "metadata": {},
   "source": [
    "Step (1) - Import the necessary packages and data. Clean data as necessary.\n",
    "\n",
    "---"
   ]
  },
  {
   "cell_type": "code",
   "execution_count": 6,
   "metadata": {},
   "outputs": [],
   "source": [
    "import pandas as pd\n",
    "import numpy as np\n",
    "\n",
    "import developmental_index as dvp\n",
    "\n",
    "df = pd.read_csv('C:\\\\Users\\\\Ben\\\\Dropbox\\\\bilbo_lab_spr2020\\\\microglia-seq_website\\\\microglia-seq\\\\mdi_w_rpkm\\\\GSE99622_hanamsagar2017_tpm_unmelted_v2.csv', header = [0, 1, 2, 3, 4])\n",
    "genes = df.iloc[:, df.columns.get_level_values(4) == 'gene'].values.flatten()\n",
    "df.set_index(genes, inplace = True)\n",
    "df.drop(df.columns[0], axis = 1, inplace = True)"
   ]
  },
  {
   "cell_type": "markdown",
   "metadata": {},
   "source": [
    "---\n",
    "\n",
    "Step (2) - Scale the expression values to between 0 and 1, so that all genes contribute to the index equally\n",
    "\n",
    "---"
   ]
  },
  {
   "cell_type": "code",
   "execution_count": 7,
   "metadata": {},
   "outputs": [],
   "source": [
    "df = dvp.scale_expression(df)"
   ]
  },
  {
   "cell_type": "markdown",
   "metadata": {},
   "source": [
    "--- \n",
    "\n",
    "Step (3) - Drop any rows (genes) that do not have detectable expression in any of the samples\n",
    "\n",
    "---"
   ]
  },
  {
   "cell_type": "code",
   "execution_count": 8,
   "metadata": {},
   "outputs": [],
   "source": [
    "df = dvp.drop_unexpressed_genes(df)"
   ]
  },
  {
   "cell_type": "markdown",
   "metadata": {},
   "source": [
    "---\n",
    "\n",
    "Step (4) - Extract the columns (samples) corresponds to all the 'young' and 'old' samples, so that they can be compared against one another to determine if there is a significant difference in expression from young to old\n",
    "\n",
    "---"
   ]
  },
  {
   "cell_type": "code",
   "execution_count": 9,
   "metadata": {},
   "outputs": [],
   "source": [
    "lps_males = df['P60 + LPS']['Male']\n",
    "lps_females = df['P60 + LPS']['Female']\n",
    "sal_males = df['P60']['Male']\n",
    "sal_females = df['P60']['Female']\n",
    "\n",
    "lps_grouped = df['P60 + LPS']\n",
    "sal_grouped = df['P60']"
   ]
  },
  {
   "cell_type": "markdown",
   "metadata": {},
   "source": [
    "---\n",
    "\n",
    "Step (4.5) - Use the 'identify significant genes' function to identify the genes that are regulated by development. Here you need to specify young and old columns, which we defined in the cell - Step 4 - above\n",
    "\n",
    "---"
   ]
  },
  {
   "cell_type": "code",
   "execution_count": 5,
   "metadata": {
    "collapsed": true,
    "jupyter": {
     "outputs_hidden": true
    }
   },
   "outputs": [
    {
     "ename": "KeyboardInterrupt",
     "evalue": "",
     "output_type": "error",
     "traceback": [
      "\u001b[1;31m---------------------------------------------------------------------------\u001b[0m",
      "\u001b[1;31mKeyboardInterrupt\u001b[0m                         Traceback (most recent call last)",
      "\u001b[1;32m<ipython-input-5-7a23b2406f1e>\u001b[0m in \u001b[0;36m<module>\u001b[1;34m\u001b[0m\n\u001b[1;32m----> 1\u001b[1;33m \u001b[0mmale_df\u001b[0m \u001b[1;33m=\u001b[0m \u001b[0mdvp\u001b[0m\u001b[1;33m.\u001b[0m\u001b[0midentify_significant_genes\u001b[0m\u001b[1;33m(\u001b[0m\u001b[0mdf\u001b[0m\u001b[1;33m,\u001b[0m \u001b[0msal_males\u001b[0m\u001b[1;33m,\u001b[0m \u001b[0mlps_males\u001b[0m\u001b[1;33m)\u001b[0m\u001b[1;33m\u001b[0m\u001b[1;33m\u001b[0m\u001b[0m\n\u001b[0m\u001b[0;32m      2\u001b[0m \u001b[0mfemale_df\u001b[0m \u001b[1;33m=\u001b[0m \u001b[0mdvp\u001b[0m\u001b[1;33m.\u001b[0m\u001b[0midentify_significant_genes\u001b[0m\u001b[1;33m(\u001b[0m\u001b[0mdf\u001b[0m\u001b[1;33m,\u001b[0m \u001b[0msal_females\u001b[0m\u001b[1;33m,\u001b[0m \u001b[0mlps_females\u001b[0m\u001b[1;33m)\u001b[0m\u001b[1;33m\u001b[0m\u001b[1;33m\u001b[0m\u001b[0m\n\u001b[0;32m      3\u001b[0m \u001b[0mcombined_df\u001b[0m \u001b[1;33m=\u001b[0m \u001b[0mdvp\u001b[0m\u001b[1;33m.\u001b[0m\u001b[0midentify_significant_genes\u001b[0m\u001b[1;33m(\u001b[0m\u001b[0mdf\u001b[0m\u001b[1;33m,\u001b[0m \u001b[0msal_grouped\u001b[0m\u001b[1;33m,\u001b[0m \u001b[0mlps_grouped\u001b[0m\u001b[1;33m)\u001b[0m\u001b[1;33m\u001b[0m\u001b[1;33m\u001b[0m\u001b[0m\n",
      "\u001b[1;32m~\\OneDrive - Duke University\\bilbo_lab\\microglia-seq_website\\microglia-seq\\mdi\\developmental_index_package\\developmental_index\\developmental_index.py\u001b[0m in \u001b[0;36midentify_significant_genes\u001b[1;34m(df, young, old)\u001b[0m\n\u001b[0;32m     61\u001b[0m     \u001b[1;32mfor\u001b[0m \u001b[0mgene\u001b[0m\u001b[1;33m,\u001b[0m \u001b[0mseries\u001b[0m \u001b[1;32min\u001b[0m \u001b[0myoung\u001b[0m\u001b[1;33m.\u001b[0m\u001b[0miterrows\u001b[0m\u001b[1;33m(\u001b[0m\u001b[1;33m)\u001b[0m\u001b[1;33m:\u001b[0m\u001b[1;33m\u001b[0m\u001b[1;33m\u001b[0m\u001b[0m\n\u001b[0;32m     62\u001b[0m         \u001b[1;32mif\u001b[0m \u001b[0mnp\u001b[0m\u001b[1;33m.\u001b[0m\u001b[0mmean\u001b[0m\u001b[1;33m(\u001b[0m\u001b[0myoung\u001b[0m\u001b[1;33m.\u001b[0m\u001b[0mloc\u001b[0m\u001b[1;33m[\u001b[0m\u001b[0mgene\u001b[0m\u001b[1;33m]\u001b[0m\u001b[1;33m)\u001b[0m \u001b[1;33m==\u001b[0m \u001b[1;36m0\u001b[0m\u001b[1;33m:\u001b[0m\u001b[1;33m\u001b[0m\u001b[1;33m\u001b[0m\u001b[0m\n\u001b[1;32m---> 63\u001b[1;33m             \u001b[0myoung\u001b[0m\u001b[1;33m.\u001b[0m\u001b[0mdrop\u001b[0m\u001b[1;33m(\u001b[0m\u001b[0mgene\u001b[0m\u001b[1;33m,\u001b[0m \u001b[0minplace\u001b[0m \u001b[1;33m=\u001b[0m \u001b[1;32mTrue\u001b[0m\u001b[1;33m)\u001b[0m\u001b[1;33m\u001b[0m\u001b[1;33m\u001b[0m\u001b[0m\n\u001b[0m\u001b[0;32m     64\u001b[0m \u001b[1;33m\u001b[0m\u001b[0m\n\u001b[0;32m     65\u001b[0m     \u001b[1;32mfor\u001b[0m \u001b[0mgene\u001b[0m\u001b[1;33m,\u001b[0m \u001b[0mseries\u001b[0m \u001b[1;32min\u001b[0m \u001b[0mold\u001b[0m\u001b[1;33m.\u001b[0m\u001b[0miterrows\u001b[0m\u001b[1;33m(\u001b[0m\u001b[1;33m)\u001b[0m\u001b[1;33m:\u001b[0m\u001b[1;33m\u001b[0m\u001b[1;33m\u001b[0m\u001b[0m\n",
      "\u001b[1;32mC:\\ProgramData\\Anaconda3\\lib\\site-packages\\pandas\\core\\frame.py\u001b[0m in \u001b[0;36mdrop\u001b[1;34m(self, labels, axis, index, columns, level, inplace, errors)\u001b[0m\n\u001b[0;32m   3988\u001b[0m                 \u001b[0mweight\u001b[0m  \u001b[1;36m1.0\u001b[0m     \u001b[1;36m0.8\u001b[0m\u001b[1;33m\u001b[0m\u001b[1;33m\u001b[0m\u001b[0m\n\u001b[0;32m   3989\u001b[0m         \"\"\"\n\u001b[1;32m-> 3990\u001b[1;33m         return super().drop(\n\u001b[0m\u001b[0;32m   3991\u001b[0m             \u001b[0mlabels\u001b[0m\u001b[1;33m=\u001b[0m\u001b[0mlabels\u001b[0m\u001b[1;33m,\u001b[0m\u001b[1;33m\u001b[0m\u001b[1;33m\u001b[0m\u001b[0m\n\u001b[0;32m   3992\u001b[0m             \u001b[0maxis\u001b[0m\u001b[1;33m=\u001b[0m\u001b[0maxis\u001b[0m\u001b[1;33m,\u001b[0m\u001b[1;33m\u001b[0m\u001b[1;33m\u001b[0m\u001b[0m\n",
      "\u001b[1;32mC:\\ProgramData\\Anaconda3\\lib\\site-packages\\pandas\\core\\generic.py\u001b[0m in \u001b[0;36mdrop\u001b[1;34m(self, labels, axis, index, columns, level, inplace, errors)\u001b[0m\n\u001b[0;32m   3934\u001b[0m         \u001b[1;32mfor\u001b[0m \u001b[0maxis\u001b[0m\u001b[1;33m,\u001b[0m \u001b[0mlabels\u001b[0m \u001b[1;32min\u001b[0m \u001b[0maxes\u001b[0m\u001b[1;33m.\u001b[0m\u001b[0mitems\u001b[0m\u001b[1;33m(\u001b[0m\u001b[1;33m)\u001b[0m\u001b[1;33m:\u001b[0m\u001b[1;33m\u001b[0m\u001b[1;33m\u001b[0m\u001b[0m\n\u001b[0;32m   3935\u001b[0m             \u001b[1;32mif\u001b[0m \u001b[0mlabels\u001b[0m \u001b[1;32mis\u001b[0m \u001b[1;32mnot\u001b[0m \u001b[1;32mNone\u001b[0m\u001b[1;33m:\u001b[0m\u001b[1;33m\u001b[0m\u001b[1;33m\u001b[0m\u001b[0m\n\u001b[1;32m-> 3936\u001b[1;33m                 \u001b[0mobj\u001b[0m \u001b[1;33m=\u001b[0m \u001b[0mobj\u001b[0m\u001b[1;33m.\u001b[0m\u001b[0m_drop_axis\u001b[0m\u001b[1;33m(\u001b[0m\u001b[0mlabels\u001b[0m\u001b[1;33m,\u001b[0m \u001b[0maxis\u001b[0m\u001b[1;33m,\u001b[0m \u001b[0mlevel\u001b[0m\u001b[1;33m=\u001b[0m\u001b[0mlevel\u001b[0m\u001b[1;33m,\u001b[0m \u001b[0merrors\u001b[0m\u001b[1;33m=\u001b[0m\u001b[0merrors\u001b[0m\u001b[1;33m)\u001b[0m\u001b[1;33m\u001b[0m\u001b[1;33m\u001b[0m\u001b[0m\n\u001b[0m\u001b[0;32m   3937\u001b[0m \u001b[1;33m\u001b[0m\u001b[0m\n\u001b[0;32m   3938\u001b[0m         \u001b[1;32mif\u001b[0m \u001b[0minplace\u001b[0m\u001b[1;33m:\u001b[0m\u001b[1;33m\u001b[0m\u001b[1;33m\u001b[0m\u001b[0m\n",
      "\u001b[1;32mC:\\ProgramData\\Anaconda3\\lib\\site-packages\\pandas\\core\\generic.py\u001b[0m in \u001b[0;36m_drop_axis\u001b[1;34m(self, labels, axis, level, errors)\u001b[0m\n\u001b[0;32m   3968\u001b[0m                 \u001b[0mnew_axis\u001b[0m \u001b[1;33m=\u001b[0m \u001b[0maxis\u001b[0m\u001b[1;33m.\u001b[0m\u001b[0mdrop\u001b[0m\u001b[1;33m(\u001b[0m\u001b[0mlabels\u001b[0m\u001b[1;33m,\u001b[0m \u001b[0mlevel\u001b[0m\u001b[1;33m=\u001b[0m\u001b[0mlevel\u001b[0m\u001b[1;33m,\u001b[0m \u001b[0merrors\u001b[0m\u001b[1;33m=\u001b[0m\u001b[0merrors\u001b[0m\u001b[1;33m)\u001b[0m\u001b[1;33m\u001b[0m\u001b[1;33m\u001b[0m\u001b[0m\n\u001b[0;32m   3969\u001b[0m             \u001b[1;32melse\u001b[0m\u001b[1;33m:\u001b[0m\u001b[1;33m\u001b[0m\u001b[1;33m\u001b[0m\u001b[0m\n\u001b[1;32m-> 3970\u001b[1;33m                 \u001b[0mnew_axis\u001b[0m \u001b[1;33m=\u001b[0m \u001b[0maxis\u001b[0m\u001b[1;33m.\u001b[0m\u001b[0mdrop\u001b[0m\u001b[1;33m(\u001b[0m\u001b[0mlabels\u001b[0m\u001b[1;33m,\u001b[0m \u001b[0merrors\u001b[0m\u001b[1;33m=\u001b[0m\u001b[0merrors\u001b[0m\u001b[1;33m)\u001b[0m\u001b[1;33m\u001b[0m\u001b[1;33m\u001b[0m\u001b[0m\n\u001b[0m\u001b[0;32m   3971\u001b[0m             \u001b[0mresult\u001b[0m \u001b[1;33m=\u001b[0m \u001b[0mself\u001b[0m\u001b[1;33m.\u001b[0m\u001b[0mreindex\u001b[0m\u001b[1;33m(\u001b[0m\u001b[1;33m**\u001b[0m\u001b[1;33m{\u001b[0m\u001b[0maxis_name\u001b[0m\u001b[1;33m:\u001b[0m \u001b[0mnew_axis\u001b[0m\u001b[1;33m}\u001b[0m\u001b[1;33m)\u001b[0m\u001b[1;33m\u001b[0m\u001b[1;33m\u001b[0m\u001b[0m\n\u001b[0;32m   3972\u001b[0m \u001b[1;33m\u001b[0m\u001b[0m\n",
      "\u001b[1;32mC:\\ProgramData\\Anaconda3\\lib\\site-packages\\pandas\\core\\indexes\\base.py\u001b[0m in \u001b[0;36mdrop\u001b[1;34m(self, labels, errors)\u001b[0m\n\u001b[0;32m   5018\u001b[0m                 \u001b[1;32mraise\u001b[0m \u001b[0mKeyError\u001b[0m\u001b[1;33m(\u001b[0m\u001b[1;34mf\"{labels[mask]} not found in axis\"\u001b[0m\u001b[1;33m)\u001b[0m\u001b[1;33m\u001b[0m\u001b[1;33m\u001b[0m\u001b[0m\n\u001b[0;32m   5019\u001b[0m             \u001b[0mindexer\u001b[0m \u001b[1;33m=\u001b[0m \u001b[0mindexer\u001b[0m\u001b[1;33m[\u001b[0m\u001b[1;33m~\u001b[0m\u001b[0mmask\u001b[0m\u001b[1;33m]\u001b[0m\u001b[1;33m\u001b[0m\u001b[1;33m\u001b[0m\u001b[0m\n\u001b[1;32m-> 5020\u001b[1;33m         \u001b[1;32mreturn\u001b[0m \u001b[0mself\u001b[0m\u001b[1;33m.\u001b[0m\u001b[0mdelete\u001b[0m\u001b[1;33m(\u001b[0m\u001b[0mindexer\u001b[0m\u001b[1;33m)\u001b[0m\u001b[1;33m\u001b[0m\u001b[1;33m\u001b[0m\u001b[0m\n\u001b[0m\u001b[0;32m   5021\u001b[0m \u001b[1;33m\u001b[0m\u001b[0m\n\u001b[0;32m   5022\u001b[0m     \u001b[1;31m# --------------------------------------------------------------------\u001b[0m\u001b[1;33m\u001b[0m\u001b[1;33m\u001b[0m\u001b[1;33m\u001b[0m\u001b[0m\n",
      "\u001b[1;32mC:\\ProgramData\\Anaconda3\\lib\\site-packages\\pandas\\core\\indexes\\base.py\u001b[0m in \u001b[0;36mdelete\u001b[1;34m(self, loc)\u001b[0m\n\u001b[0;32m   4969\u001b[0m         \u001b[0mnew_index\u001b[0m \u001b[1;33m:\u001b[0m \u001b[0mIndex\u001b[0m\u001b[1;33m\u001b[0m\u001b[1;33m\u001b[0m\u001b[0m\n\u001b[0;32m   4970\u001b[0m         \"\"\"\n\u001b[1;32m-> 4971\u001b[1;33m         \u001b[1;32mreturn\u001b[0m \u001b[0mself\u001b[0m\u001b[1;33m.\u001b[0m\u001b[0m_shallow_copy\u001b[0m\u001b[1;33m(\u001b[0m\u001b[0mnp\u001b[0m\u001b[1;33m.\u001b[0m\u001b[0mdelete\u001b[0m\u001b[1;33m(\u001b[0m\u001b[0mself\u001b[0m\u001b[1;33m.\u001b[0m\u001b[0m_data\u001b[0m\u001b[1;33m,\u001b[0m \u001b[0mloc\u001b[0m\u001b[1;33m)\u001b[0m\u001b[1;33m)\u001b[0m\u001b[1;33m\u001b[0m\u001b[1;33m\u001b[0m\u001b[0m\n\u001b[0m\u001b[0;32m   4972\u001b[0m \u001b[1;33m\u001b[0m\u001b[0m\n\u001b[0;32m   4973\u001b[0m     \u001b[1;32mdef\u001b[0m \u001b[0minsert\u001b[0m\u001b[1;33m(\u001b[0m\u001b[0mself\u001b[0m\u001b[1;33m,\u001b[0m \u001b[0mloc\u001b[0m\u001b[1;33m,\u001b[0m \u001b[0mitem\u001b[0m\u001b[1;33m)\u001b[0m\u001b[1;33m:\u001b[0m\u001b[1;33m\u001b[0m\u001b[1;33m\u001b[0m\u001b[0m\n",
      "\u001b[1;32m<__array_function__ internals>\u001b[0m in \u001b[0;36mdelete\u001b[1;34m(*args, **kwargs)\u001b[0m\n",
      "\u001b[1;32mC:\\ProgramData\\Anaconda3\\lib\\site-packages\\numpy\\lib\\function_base.py\u001b[0m in \u001b[0;36mdelete\u001b[1;34m(arr, obj, axis)\u001b[0m\n\u001b[0;32m   4415\u001b[0m         \u001b[0mkeep\u001b[0m\u001b[1;33m[\u001b[0m\u001b[0mobj\u001b[0m\u001b[1;33m,\u001b[0m \u001b[1;33m]\u001b[0m \u001b[1;33m=\u001b[0m \u001b[1;32mFalse\u001b[0m\u001b[1;33m\u001b[0m\u001b[1;33m\u001b[0m\u001b[0m\n\u001b[0;32m   4416\u001b[0m         \u001b[0mslobj\u001b[0m\u001b[1;33m[\u001b[0m\u001b[0maxis\u001b[0m\u001b[1;33m]\u001b[0m \u001b[1;33m=\u001b[0m \u001b[0mkeep\u001b[0m\u001b[1;33m\u001b[0m\u001b[1;33m\u001b[0m\u001b[0m\n\u001b[1;32m-> 4417\u001b[1;33m         \u001b[0mnew\u001b[0m \u001b[1;33m=\u001b[0m \u001b[0marr\u001b[0m\u001b[1;33m[\u001b[0m\u001b[0mtuple\u001b[0m\u001b[1;33m(\u001b[0m\u001b[0mslobj\u001b[0m\u001b[1;33m)\u001b[0m\u001b[1;33m]\u001b[0m\u001b[1;33m\u001b[0m\u001b[1;33m\u001b[0m\u001b[0m\n\u001b[0m\u001b[0;32m   4418\u001b[0m \u001b[1;33m\u001b[0m\u001b[0m\n\u001b[0;32m   4419\u001b[0m     \u001b[1;32mif\u001b[0m \u001b[0mwrap\u001b[0m\u001b[1;33m:\u001b[0m\u001b[1;33m\u001b[0m\u001b[1;33m\u001b[0m\u001b[0m\n",
      "\u001b[1;31mKeyboardInterrupt\u001b[0m: "
     ]
    }
   ],
   "source": [
    "# male_df = dvp.identify_significant_genes(df, sal_males, lps_males)\n",
    "# female_df = dvp.identify_significant_genes(df, sal_females, lps_females)\n",
    "# combined_df = dvp.identify_significant_genes(df, sal_grouped, lps_grouped)"
   ]
  },
  {
   "cell_type": "code",
   "execution_count": 26,
   "metadata": {},
   "outputs": [],
   "source": [
    "# male_index = male_df[male_df['pvals'] < 0.05][['pvals', 'direction', 'sig', 'logdiff']]\n",
    "# female_index = female_df[female_df['pvals'] < 0.05][['pvals', 'direction', 'sig', 'logdiff']]\n",
    "# combined_index = combined_df[combined_df['pvals'] < 0.05][['pvals', 'direction', 'sig', 'logdiff']]"
   ]
  },
  {
   "cell_type": "code",
   "execution_count": 27,
   "metadata": {},
   "outputs": [],
   "source": [
    "# male_index.to_csv('C:\\\\Users\\\\Ben\\\\Dropbox\\\\bilbo_lab_spr2020\\\\microglia-seq_website\\\\microglia-seq\\\\lps_index\\\\' + 'male_lps_index.csv')\n",
    "# female_index.to_csv('C:\\\\Users\\\\Ben\\\\Dropbox\\\\bilbo_lab_spr2020\\\\microglia-seq_website\\\\microglia-seq\\\\lps_index\\\\' + 'female_lps_index.csv')\n",
    "# combined_index.to_csv('C:\\\\Users\\\\Ben\\\\Dropbox\\\\bilbo_lab_spr2020\\\\microglia-seq_website\\\\microglia-seq\\\\lps_index\\\\' + 'combined_lps_index.csv')"
   ]
  },
  {
   "cell_type": "code",
   "execution_count": 11,
   "metadata": {},
   "outputs": [],
   "source": [
    "holder = lps_males.join(sal_males)"
   ]
  },
  {
   "cell_type": "code",
   "execution_count": 21,
   "metadata": {},
   "outputs": [
    {
     "data": {
      "text/html": [
       "<div>\n",
       "<style scoped>\n",
       "    .dataframe tbody tr th:only-of-type {\n",
       "        vertical-align: middle;\n",
       "    }\n",
       "\n",
       "    .dataframe tbody tr th {\n",
       "        vertical-align: top;\n",
       "    }\n",
       "\n",
       "    .dataframe thead tr th {\n",
       "        text-align: left;\n",
       "    }\n",
       "</style>\n",
       "<table border=\"1\" class=\"dataframe\">\n",
       "  <thead>\n",
       "    <tr>\n",
       "      <th></th>\n",
       "      <th>pvals</th>\n",
       "      <th>direction</th>\n",
       "      <th>sig</th>\n",
       "      <th>logdiff</th>\n",
       "    </tr>\n",
       "    <tr>\n",
       "      <th></th>\n",
       "      <th></th>\n",
       "      <th></th>\n",
       "      <th></th>\n",
       "      <th></th>\n",
       "    </tr>\n",
       "    <tr>\n",
       "      <th></th>\n",
       "      <th></th>\n",
       "      <th></th>\n",
       "      <th></th>\n",
       "      <th></th>\n",
       "    </tr>\n",
       "  </thead>\n",
       "  <tbody>\n",
       "    <tr>\n",
       "      <th>Dnajc18</th>\n",
       "      <td>0.004442</td>\n",
       "      <td>DOWN</td>\n",
       "      <td>3.652720</td>\n",
       "      <td>-1.124817</td>\n",
       "    </tr>\n",
       "    <tr>\n",
       "      <th>Mfsd2a</th>\n",
       "      <td>0.003535</td>\n",
       "      <td>DOWN</td>\n",
       "      <td>3.791432</td>\n",
       "      <td>-2.068529</td>\n",
       "    </tr>\n",
       "    <tr>\n",
       "      <th>Fam101b</th>\n",
       "      <td>0.000558</td>\n",
       "      <td>DOWN</td>\n",
       "      <td>4.974899</td>\n",
       "      <td>-2.635221</td>\n",
       "    </tr>\n",
       "    <tr>\n",
       "      <th>Atg2b</th>\n",
       "      <td>0.017823</td>\n",
       "      <td>DOWN</td>\n",
       "      <td>2.830948</td>\n",
       "      <td>-0.249499</td>\n",
       "    </tr>\n",
       "    <tr>\n",
       "      <th>Dapk1</th>\n",
       "      <td>0.003158</td>\n",
       "      <td>DOWN</td>\n",
       "      <td>3.860416</td>\n",
       "      <td>-0.790312</td>\n",
       "    </tr>\n",
       "    <tr>\n",
       "      <th>...</th>\n",
       "      <td>...</td>\n",
       "      <td>...</td>\n",
       "      <td>...</td>\n",
       "      <td>...</td>\n",
       "    </tr>\n",
       "    <tr>\n",
       "      <th>Tst</th>\n",
       "      <td>0.002944</td>\n",
       "      <td>DOWN</td>\n",
       "      <td>3.903451</td>\n",
       "      <td>-2.716878</td>\n",
       "    </tr>\n",
       "    <tr>\n",
       "      <th>Cobl</th>\n",
       "      <td>0.033743</td>\n",
       "      <td>DOWN</td>\n",
       "      <td>2.458851</td>\n",
       "      <td>-1.014983</td>\n",
       "    </tr>\n",
       "    <tr>\n",
       "      <th>Zfp11</th>\n",
       "      <td>0.041683</td>\n",
       "      <td>DOWN</td>\n",
       "      <td>2.335153</td>\n",
       "      <td>-0.946192</td>\n",
       "    </tr>\n",
       "    <tr>\n",
       "      <th>Wdr45</th>\n",
       "      <td>0.049554</td>\n",
       "      <td>DOWN</td>\n",
       "      <td>2.233424</td>\n",
       "      <td>-0.874615</td>\n",
       "    </tr>\n",
       "    <tr>\n",
       "      <th>Ttl</th>\n",
       "      <td>0.002739</td>\n",
       "      <td>DOWN</td>\n",
       "      <td>3.948037</td>\n",
       "      <td>-0.732985</td>\n",
       "    </tr>\n",
       "  </tbody>\n",
       "</table>\n",
       "<p>4819 rows × 4 columns</p>\n",
       "</div>"
      ],
      "text/plain": [
       "            pvals direction       sig   logdiff\n",
       "                                               \n",
       "                                               \n",
       "Dnajc18  0.004442      DOWN  3.652720 -1.124817\n",
       "Mfsd2a   0.003535      DOWN  3.791432 -2.068529\n",
       "Fam101b  0.000558      DOWN  4.974899 -2.635221\n",
       "Atg2b    0.017823      DOWN  2.830948 -0.249499\n",
       "Dapk1    0.003158      DOWN  3.860416 -0.790312\n",
       "...           ...       ...       ...       ...\n",
       "Tst      0.002944      DOWN  3.903451 -2.716878\n",
       "Cobl     0.033743      DOWN  2.458851 -1.014983\n",
       "Zfp11    0.041683      DOWN  2.335153 -0.946192\n",
       "Wdr45    0.049554      DOWN  2.233424 -0.874615\n",
       "Ttl      0.002739      DOWN  3.948037 -0.732985\n",
       "\n",
       "[4819 rows x 4 columns]"
      ]
     },
     "execution_count": 21,
     "metadata": {},
     "output_type": "execute_result"
    }
   ],
   "source": [
    "male_df = dvp.identify_significant_genes(holder, sal_males, lps_males)\n",
    "male_index = male_df[male_df['pvals'] < 0.05][['pvals', 'direction', 'sig', 'logdiff']]\n",
    "male_index.to_csv('C:\\\\Users\\\\Ben\\\\OneDrive - Duke University\\\\bilbo_lab\\\\microglia-seq_website\\\\microglia-seq\\\\lps_index\\\\' + 'male_lps_index.csv')\n",
    "male_index"
   ]
  },
  {
   "cell_type": "code",
   "execution_count": 22,
   "metadata": {},
   "outputs": [
    {
     "data": {
      "text/html": [
       "<div>\n",
       "<style scoped>\n",
       "    .dataframe tbody tr th:only-of-type {\n",
       "        vertical-align: middle;\n",
       "    }\n",
       "\n",
       "    .dataframe tbody tr th {\n",
       "        vertical-align: top;\n",
       "    }\n",
       "\n",
       "    .dataframe thead tr th {\n",
       "        text-align: left;\n",
       "    }\n",
       "</style>\n",
       "<table border=\"1\" class=\"dataframe\">\n",
       "  <thead>\n",
       "    <tr>\n",
       "      <th></th>\n",
       "      <th>pvals</th>\n",
       "      <th>direction</th>\n",
       "      <th>sig</th>\n",
       "      <th>logdiff</th>\n",
       "    </tr>\n",
       "    <tr>\n",
       "      <th></th>\n",
       "      <th></th>\n",
       "      <th></th>\n",
       "      <th></th>\n",
       "      <th></th>\n",
       "    </tr>\n",
       "    <tr>\n",
       "      <th></th>\n",
       "      <th></th>\n",
       "      <th></th>\n",
       "      <th></th>\n",
       "      <th></th>\n",
       "    </tr>\n",
       "    <tr>\n",
       "      <th></th>\n",
       "      <th></th>\n",
       "      <th></th>\n",
       "      <th></th>\n",
       "      <th></th>\n",
       "    </tr>\n",
       "    <tr>\n",
       "      <th></th>\n",
       "      <th></th>\n",
       "      <th></th>\n",
       "      <th></th>\n",
       "      <th></th>\n",
       "    </tr>\n",
       "  </thead>\n",
       "  <tbody>\n",
       "    <tr>\n",
       "      <th>Mfsd2a</th>\n",
       "      <td>0.029810</td>\n",
       "      <td>DOWN</td>\n",
       "      <td>2.494232</td>\n",
       "      <td>-2.905083</td>\n",
       "    </tr>\n",
       "    <tr>\n",
       "      <th>1600029D21Rik</th>\n",
       "      <td>0.040799</td>\n",
       "      <td>UP</td>\n",
       "      <td>-2.316916</td>\n",
       "      <td>1.990368</td>\n",
       "    </tr>\n",
       "    <tr>\n",
       "      <th>Creld2</th>\n",
       "      <td>0.025239</td>\n",
       "      <td>DOWN</td>\n",
       "      <td>2.587752</td>\n",
       "      <td>-0.842949</td>\n",
       "    </tr>\n",
       "    <tr>\n",
       "      <th>Spcs3</th>\n",
       "      <td>0.021521</td>\n",
       "      <td>DOWN</td>\n",
       "      <td>2.677054</td>\n",
       "      <td>-0.551456</td>\n",
       "    </tr>\n",
       "    <tr>\n",
       "      <th>Fahd2a</th>\n",
       "      <td>0.010836</td>\n",
       "      <td>UP</td>\n",
       "      <td>-3.060809</td>\n",
       "      <td>0.737627</td>\n",
       "    </tr>\n",
       "    <tr>\n",
       "      <th>...</th>\n",
       "      <td>...</td>\n",
       "      <td>...</td>\n",
       "      <td>...</td>\n",
       "      <td>...</td>\n",
       "    </tr>\n",
       "    <tr>\n",
       "      <th>Zfp82</th>\n",
       "      <td>0.043148</td>\n",
       "      <td>DOWN</td>\n",
       "      <td>2.285101</td>\n",
       "      <td>-0.910853</td>\n",
       "    </tr>\n",
       "    <tr>\n",
       "      <th>Atad2</th>\n",
       "      <td>0.008362</td>\n",
       "      <td>DOWN</td>\n",
       "      <td>3.206213</td>\n",
       "      <td>-1.398826</td>\n",
       "    </tr>\n",
       "    <tr>\n",
       "      <th>Dcaf12</th>\n",
       "      <td>0.042562</td>\n",
       "      <td>DOWN</td>\n",
       "      <td>2.292875</td>\n",
       "      <td>-1.141218</td>\n",
       "    </tr>\n",
       "    <tr>\n",
       "      <th>Prune</th>\n",
       "      <td>0.018149</td>\n",
       "      <td>DOWN</td>\n",
       "      <td>2.772394</td>\n",
       "      <td>-0.982445</td>\n",
       "    </tr>\n",
       "    <tr>\n",
       "      <th>Ccnb1</th>\n",
       "      <td>0.021149</td>\n",
       "      <td>DOWN</td>\n",
       "      <td>2.686816</td>\n",
       "      <td>-2.510280</td>\n",
       "    </tr>\n",
       "  </tbody>\n",
       "</table>\n",
       "<p>1531 rows × 4 columns</p>\n",
       "</div>"
      ],
      "text/plain": [
       "                  pvals direction       sig   logdiff\n",
       "                                                     \n",
       "                                                     \n",
       "                                                     \n",
       "                                                     \n",
       "Mfsd2a         0.029810      DOWN  2.494232 -2.905083\n",
       "1600029D21Rik  0.040799        UP -2.316916  1.990368\n",
       "Creld2         0.025239      DOWN  2.587752 -0.842949\n",
       "Spcs3          0.021521      DOWN  2.677054 -0.551456\n",
       "Fahd2a         0.010836        UP -3.060809  0.737627\n",
       "...                 ...       ...       ...       ...\n",
       "Zfp82          0.043148      DOWN  2.285101 -0.910853\n",
       "Atad2          0.008362      DOWN  3.206213 -1.398826\n",
       "Dcaf12         0.042562      DOWN  2.292875 -1.141218\n",
       "Prune          0.018149      DOWN  2.772394 -0.982445\n",
       "Ccnb1          0.021149      DOWN  2.686816 -2.510280\n",
       "\n",
       "[1531 rows x 4 columns]"
      ]
     },
     "execution_count": 22,
     "metadata": {},
     "output_type": "execute_result"
    }
   ],
   "source": [
    "female_df = dvp.identify_significant_genes(df, sal_females, lps_females)\n",
    "female_index = female_df[female_df['pvals'] < 0.05][['pvals', 'direction', 'sig', 'logdiff']]\n",
    "female_index.to_csv('C:\\\\Users\\\\Ben\\\\OneDrive - Duke University\\\\bilbo_lab\\\\microglia-seq_website\\\\microglia-seq\\\\lps_index\\\\' + 'female_lps_index.csv')\n",
    "female_index"
   ]
  },
  {
   "cell_type": "code",
   "execution_count": 23,
   "metadata": {},
   "outputs": [
    {
     "data": {
      "text/html": [
       "<div>\n",
       "<style scoped>\n",
       "    .dataframe tbody tr th:only-of-type {\n",
       "        vertical-align: middle;\n",
       "    }\n",
       "\n",
       "    .dataframe tbody tr th {\n",
       "        vertical-align: top;\n",
       "    }\n",
       "\n",
       "    .dataframe thead tr th {\n",
       "        text-align: left;\n",
       "    }\n",
       "</style>\n",
       "<table border=\"1\" class=\"dataframe\">\n",
       "  <thead>\n",
       "    <tr>\n",
       "      <th></th>\n",
       "      <th>pvals</th>\n",
       "      <th>direction</th>\n",
       "      <th>sig</th>\n",
       "      <th>logdiff</th>\n",
       "    </tr>\n",
       "    <tr>\n",
       "      <th></th>\n",
       "      <th></th>\n",
       "      <th></th>\n",
       "      <th></th>\n",
       "      <th></th>\n",
       "    </tr>\n",
       "    <tr>\n",
       "      <th></th>\n",
       "      <th></th>\n",
       "      <th></th>\n",
       "      <th></th>\n",
       "      <th></th>\n",
       "    </tr>\n",
       "    <tr>\n",
       "      <th></th>\n",
       "      <th></th>\n",
       "      <th></th>\n",
       "      <th></th>\n",
       "      <th></th>\n",
       "    </tr>\n",
       "    <tr>\n",
       "      <th></th>\n",
       "      <th></th>\n",
       "      <th></th>\n",
       "      <th></th>\n",
       "      <th></th>\n",
       "    </tr>\n",
       "  </thead>\n",
       "  <tbody>\n",
       "    <tr>\n",
       "      <th>Dnajc18</th>\n",
       "      <td>0.023227</td>\n",
       "      <td>DOWN</td>\n",
       "      <td>2.431688</td>\n",
       "      <td>-0.710954</td>\n",
       "    </tr>\n",
       "    <tr>\n",
       "      <th>Ipo11</th>\n",
       "      <td>0.020011</td>\n",
       "      <td>DOWN</td>\n",
       "      <td>2.499612</td>\n",
       "      <td>-0.503932</td>\n",
       "    </tr>\n",
       "    <tr>\n",
       "      <th>Mfsd2a</th>\n",
       "      <td>0.000406</td>\n",
       "      <td>DOWN</td>\n",
       "      <td>4.131305</td>\n",
       "      <td>-2.271911</td>\n",
       "    </tr>\n",
       "    <tr>\n",
       "      <th>Fam101b</th>\n",
       "      <td>0.000508</td>\n",
       "      <td>DOWN</td>\n",
       "      <td>4.040869</td>\n",
       "      <td>-1.751723</td>\n",
       "    </tr>\n",
       "    <tr>\n",
       "      <th>1600029D21Rik</th>\n",
       "      <td>0.000157</td>\n",
       "      <td>UP</td>\n",
       "      <td>-4.513321</td>\n",
       "      <td>2.294836</td>\n",
       "    </tr>\n",
       "    <tr>\n",
       "      <th>...</th>\n",
       "      <td>...</td>\n",
       "      <td>...</td>\n",
       "      <td>...</td>\n",
       "      <td>...</td>\n",
       "    </tr>\n",
       "    <tr>\n",
       "      <th>Prune</th>\n",
       "      <td>0.007330</td>\n",
       "      <td>DOWN</td>\n",
       "      <td>2.941414</td>\n",
       "      <td>-0.601041</td>\n",
       "    </tr>\n",
       "    <tr>\n",
       "      <th>Zfp11</th>\n",
       "      <td>0.036447</td>\n",
       "      <td>DOWN</td>\n",
       "      <td>2.221413</td>\n",
       "      <td>-0.798782</td>\n",
       "    </tr>\n",
       "    <tr>\n",
       "      <th>Wdr45</th>\n",
       "      <td>0.007503</td>\n",
       "      <td>DOWN</td>\n",
       "      <td>2.931388</td>\n",
       "      <td>-0.716800</td>\n",
       "    </tr>\n",
       "    <tr>\n",
       "      <th>T2</th>\n",
       "      <td>0.040073</td>\n",
       "      <td>DOWN</td>\n",
       "      <td>2.176078</td>\n",
       "      <td>-2.318127</td>\n",
       "    </tr>\n",
       "    <tr>\n",
       "      <th>Ttl</th>\n",
       "      <td>0.042968</td>\n",
       "      <td>DOWN</td>\n",
       "      <td>2.142480</td>\n",
       "      <td>-0.498216</td>\n",
       "    </tr>\n",
       "  </tbody>\n",
       "</table>\n",
       "<p>3654 rows × 4 columns</p>\n",
       "</div>"
      ],
      "text/plain": [
       "                  pvals direction       sig   logdiff\n",
       "                                                     \n",
       "                                                     \n",
       "                                                     \n",
       "                                                     \n",
       "Dnajc18        0.023227      DOWN  2.431688 -0.710954\n",
       "Ipo11          0.020011      DOWN  2.499612 -0.503932\n",
       "Mfsd2a         0.000406      DOWN  4.131305 -2.271911\n",
       "Fam101b        0.000508      DOWN  4.040869 -1.751723\n",
       "1600029D21Rik  0.000157        UP -4.513321  2.294836\n",
       "...                 ...       ...       ...       ...\n",
       "Prune          0.007330      DOWN  2.941414 -0.601041\n",
       "Zfp11          0.036447      DOWN  2.221413 -0.798782\n",
       "Wdr45          0.007503      DOWN  2.931388 -0.716800\n",
       "T2             0.040073      DOWN  2.176078 -2.318127\n",
       "Ttl            0.042968      DOWN  2.142480 -0.498216\n",
       "\n",
       "[3654 rows x 4 columns]"
      ]
     },
     "execution_count": 23,
     "metadata": {},
     "output_type": "execute_result"
    }
   ],
   "source": [
    "combined_df = dvp.identify_significant_genes(df, sal_grouped, lps_grouped)\n",
    "combined_index = combined_df[combined_df['pvals'] < 0.05][['pvals', 'direction', 'sig', 'logdiff']]\n",
    "combined_index.to_csv('C:\\\\Users\\\\Ben\\\\OneDrive - Duke University\\\\bilbo_lab\\\\microglia-seq_website\\\\microglia-seq\\\\lps_index\\\\' + 'combined_lps_index.csv')\n",
    "combined_index"
   ]
  },
  {
   "cell_type": "code",
   "execution_count": 58,
   "metadata": {},
   "outputs": [],
   "source": [
    "male_genes = male_index.index\n",
    "female_genes = female_index.index\n",
    "combined_genes = combined_index.index"
   ]
  },
  {
   "cell_type": "code",
   "execution_count": 65,
   "metadata": {},
   "outputs": [
    {
     "name": "stdout",
     "output_type": "stream",
     "text": [
      "709 genes are shared between males and females\n",
      "2478 genes are shared between males and combined\n",
      "1145 genes are shared between females and combined\n"
     ]
    }
   ],
   "source": [
    "print(len(np.intersect1d(male_genes, female_genes)), 'genes are shared between males and females')\n",
    "print(len(np.intersect1d(male_genes, combined_genes)), 'genes are shared between males and combined')\n",
    "print(len(np.intersect1d(female_genes, combined_genes)), 'genes are shared between females and combined')"
   ]
  },
  {
   "cell_type": "code",
   "execution_count": 70,
   "metadata": {},
   "outputs": [
    {
     "name": "stdout",
     "output_type": "stream",
     "text": [
      "0.25233008692009634\n",
      "0.08016546235207875\n"
     ]
    }
   ],
   "source": [
    "print(len(male_genes) / len(df))\n",
    "print(len(female_genes) / len(df))"
   ]
  },
  {
   "cell_type": "code",
   "execution_count": 73,
   "metadata": {},
   "outputs": [
    {
     "data": {
      "text/plain": [
       "(array(['DOWN', 'UP'], dtype=object), array([674, 857], dtype=int64))"
      ]
     },
     "execution_count": 73,
     "metadata": {},
     "output_type": "execute_result"
    }
   ],
   "source": [
    "np.unique(female_index['direction'], return_counts = True)"
   ]
  },
  {
   "cell_type": "code",
   "execution_count": null,
   "metadata": {},
   "outputs": [],
   "source": []
  }
 ],
 "metadata": {
  "kernelspec": {
   "display_name": "Python 3",
   "language": "python",
   "name": "python3"
  },
  "language_info": {
   "codemirror_mode": {
    "name": "ipython",
    "version": 3
   },
   "file_extension": ".py",
   "mimetype": "text/x-python",
   "name": "python",
   "nbconvert_exporter": "python",
   "pygments_lexer": "ipython3",
   "version": "3.8.3"
  }
 },
 "nbformat": 4,
 "nbformat_minor": 4
}
